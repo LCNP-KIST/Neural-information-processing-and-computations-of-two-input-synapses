{
 "cells": [
  {
   "cell_type": "code",
   "execution_count": null,
   "metadata": {},
   "outputs": [],
   "source": [
    "import tensorflow as tf\n",
    "import numpy as np\n",
    "import matplotlib.pyplot as plt\n",
    "from tensorflow import keras\n",
    "from tensorflow.keras import layers\n",
    "import matplotlib\n",
    "\n",
    "font = {'family' : 'normal',\n",
    "#         'weight' : 'bold',\n",
    "        'size'   : 18}\n",
    "matplotlib.rc('font', **font)"
   ]
  },
  {
   "cell_type": "markdown",
   "metadata": {},
   "source": [
    "### Import and normalize Fashion MNIST"
   ]
  },
  {
   "cell_type": "code",
   "execution_count": null,
   "metadata": {},
   "outputs": [],
   "source": [
    "fashion_mnist = tf.keras.datasets.fashion_mnist\n",
    "(train_images, train_labels), (test_images, test_labels) = fashion_mnist.load_data()\n",
    "train_images = train_images / 255.0\n",
    "test_images = test_images / 255.0\n",
    "\n",
    "class_names = ['T-shirt/top', 'Trouser', 'Pullover', 'Dress', 'Coat',\n",
    "               'Sandal', 'Shirt', 'Sneaker', 'Bag', 'Ankle boot']"
   ]
  },
  {
   "cell_type": "markdown",
   "metadata": {},
   "source": [
    "### Train and evaluate neural networks, 10 repetitions"
   ]
  },
  {
   "cell_type": "code",
   "execution_count": null,
   "metadata": {
    "scrolled": true
   },
   "outputs": [],
   "source": [
    "import math\n",
    "import scipy.stats\n",
    "\n",
    "a1 = 1.0\n",
    "a2 = 0.0\n",
    "b1 = 1.0\n",
    "b2 = 10.0\n",
    "c = 0.5\n",
    "d= 1.0\n",
    "\n",
    "def sigmoid(x):\n",
    "        return d*1.0/(1.0+tf.math.exp(-a1*(x-a2))) \n",
    "\n",
    "def ad_sigmoid(x):\n",
    "        return d*1.0/(1.0+tf.math.exp(-a1*(x-a2))) *  (1.0/(1.0+tf.math.exp(b1*(x-b2)))*(1.0-c) + c )\n",
    "\n",
    "    def scheduler(epoch, lr):\n",
    "#     if epoch < 2:\n",
    "#         return lr\n",
    "#     else:\n",
    "        return lr * np.exp(-0.1)\n",
    "\n",
    "vaccs_all3 = []\n",
    "vaccs_aves3 = []\n",
    "vaccs_errs3 =[]\n",
    "for pp in [0.1*i for i in range(11)]:\n",
    "    accs=[]\n",
    "    vaccs=[]\n",
    "    \n",
    "    nreps=0\n",
    "    \n",
    "    while nreps < 10:\n",
    "\n",
    "        Kl = 30\n",
    "        inputs = keras.Input(shape = (28,28))\n",
    "        x = layers.Flatten()(inputs)\n",
    "        x1 = layers.Dense(1000-int(1000*pp),activation=sigmoid)(x)\n",
    "        x2 = layers.Dense(int(1000*pp),activation=ad_sigmoid)(x)\n",
    "        x = layers.concatenate([x1,x2])\n",
    "        x1 = layers.Dense(500-int(500*pp),activation=sigmoid)(x)\n",
    "        x2 = layers.Dense(int(500*pp),activation=ad_sigmoid)(x)\n",
    "        x = layers.concatenate([x1,x2])\n",
    "        x1 = layers.Dense(250-int(250*pp),activation=sigmoid)(x)\n",
    "        x2 = layers.Dense(int(250*pp),activation=ad_sigmoid)(x)\n",
    "        x = layers.concatenate([x1,x2])\n",
    "        x = layers.Dense(Kl, activation=None)(x)\n",
    "        x1 = layers.Dense(250-int(250*pp),activation=sigmoid)(x)\n",
    "        x2 = layers.Dense(int(250*pp),activation=ad_sigmoid)(x)\n",
    "        x = layers.concatenate([x1,x2])\n",
    "        x1 = layers.Dense(500-int(500*pp),activation=sigmoid)(x)\n",
    "        x2 = layers.Dense(int(500*pp),activation=ad_sigmoid)(x)\n",
    "        x = layers.concatenate([x1,x2])\n",
    "        x1 = layers.Dense(1000-int(1000*pp),activation=sigmoid)(x)\n",
    "        x2 = layers.Dense(int(1000*pp),activation=ad_sigmoid)(x)\n",
    "        x = layers.concatenate([x1,x2])\n",
    "        x = layers.Dense(28*28, activation=sigmoid)(x)\n",
    "        outputs = layers.Reshape((28,28))(x)\n",
    "\n",
    "        model = keras.Model(inputs = inputs, outputs = outputs)\n",
    "#         model.summary()\n",
    "\n",
    "        callback = tf.keras.callbacks.LearningRateScheduler(scheduler)\n",
    "\n",
    "        model.compile(optimizer='adam',\n",
    "                      loss='MSE',\n",
    "                      callbacks=[callback])\n",
    "\n",
    "        history = model.fit(train_images, train_images, validation_data = [test_images,test_images], epochs=5)\n",
    "\n",
    "        if math.isnan(history.history['val_loss'][-1]):\n",
    "            continue\n",
    "        \n",
    "        else:\n",
    "            nreps += 1\n",
    "            accs.append(history.history['loss'])\n",
    "            vaccs.append(history.history['val_loss'][-1])\n",
    "\n",
    "    vaccs_all3.append(vaccs)\n",
    "    vaccs_aves3.append(np.mean(vaccs))\n",
    "    vaccs_errs3.append(scipy.stats.sem(vaccs))"
   ]
  },
  {
   "cell_type": "markdown",
   "metadata": {},
   "source": [
    "### Plot accuracy vs proportion of type 1/2 neurons"
   ]
  },
  {
   "cell_type": "code",
   "execution_count": null,
   "metadata": {},
   "outputs": [],
   "source": [
    "fig,ax = plt.subplots(1,1,figsize=(6,5))\n",
    "ax.scatter([10*i for i in range(11)], vaccs_aves3, c='black')\n",
    "ax.errorbar([10*i for i in range(11)], vaccs_aves3, yerr=vaccs_errs3, capsize=3, c='black')\n",
    "\n",
    "ax.set_xlabel(\"Proportion of type 2 neurons\")\n",
    "ax.set_xticks([0,50,100])\n",
    "ax.set_xticklabels(['0','50','100%'])\n",
    "\n",
    "axT = ax.twiny()\n",
    "axT.set_xticks([0,0.5,1])\n",
    "axT.set_xticklabels(['100','50','0%'])\n",
    "axT.set_xlabel(\"Proportion of type 1 neurons\")\n",
    "axT.xaxis.labelpad = 10\n",
    "\n",
    "ax.set_ylabel(\"MSE\")\n",
    "\n",
    "plt.subplots_adjust(left=0.3,bottom=0.3,top=0.7,right=0.9)\n",
    "ax.tick_params(which='both', direction='in')\n",
    "\n",
    "plt.savefig('Fig3B.eps')\n"
   ]
  }
 ],
 "metadata": {
  "kernelspec": {
   "display_name": "Python 3",
   "language": "python",
   "name": "python3"
  },
  "language_info": {
   "codemirror_mode": {
    "name": "ipython",
    "version": 3
   },
   "file_extension": ".py",
   "mimetype": "text/x-python",
   "name": "python",
   "nbconvert_exporter": "python",
   "pygments_lexer": "ipython3",
   "version": "3.7.10"
  }
 },
 "nbformat": 4,
 "nbformat_minor": 4
}
